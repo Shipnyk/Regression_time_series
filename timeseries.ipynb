
import os
import pandas as pd
import numpy as np
from sklearn.model_selection import train_test_split
from sklearn.ensemble import RandomForestRegressor
from sklearn.linear_model import LinearRegression

## reading all folders in the given data
subfolders = [ f.name for f in os.scandir('/home/nayaks/data') if f.is_dir() ]
