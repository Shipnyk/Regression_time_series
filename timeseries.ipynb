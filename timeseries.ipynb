
import os
import pandas as pd
import numpy as np
from sklearn.model_selection import train_test_split
from sklearn.ensemble import RandomForestRegressor
from sklearn.linear_model import LinearRegression

## reading all folders in the given data
subfolders = [ f.name for f in os.scandir('/home/nayaks/data') if f.is_dir() ]

##data processing and noise removal

data=[]
count=0
for folder_name in subfolders:
    _,group_no,instance=folder_name.split("_")
    with open (f'/home/nayaks/data/{folder_name}/mem.log') as input_file:
        for line in input_file:
            y=line.split("\":\"")
            y[1]=y[1].replace("\"","")
            timestamp=y[0].replace("\"","")
            Mem_allot,Mem_Used,CPU_allot,CPU_used,bwidth_util,space_util=y[1].split(':')
            space_util=space_util.replace("G\n",'')
            data.append([group_no,instance,timestamp,Mem_allot,Mem_Used,CPU_allot,CPU_used,bwidth_util,space_util])
        
df = pd.DataFrame(data, columns = ['group_no','instance','timestamp','Mem_allot','Mem_used','CPU_allot','CPU_used','bwidth_util','space_util'])
